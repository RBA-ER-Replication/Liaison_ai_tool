{
 "cells": [
  {
   "cell_type": "markdown",
   "id": "ac14b6cf-f299-4915-8a70-784e60daf401",
   "metadata": {},
   "source": [
    "# Textual Analysis and Retrieval System (TARS) - Extracting Text from Word Documents \n",
    "The following notebook code extracts text from a word document, like outlined in section 3.1 of the accompanying research discussion paper [AI-driven Information Retrieval from Liaison: The Reserve Bank of Australia’s New Tool](https://www.google.com). An example document is contained in the Data folder inside this directory. The following code:\n",
    "1. Parses DOCX document\n",
    "2. Iterates over Paragraph or Table and retrieves the texts and styles for each.\n",
    "3. Cleans up text (e.g. removing empty strings)\n",
    "4. Uses heuristics to assign text as \"BODY\", \"HEADING\", \"TABLE\" or \"UNKNOWN\"\n",
    "5. Creates an additional column identifying which heading the text is under.\n",
    "\n",
    "The output is a dataframe containing text and extracted metadata as outlined above. This text would then be run through enrichment, like is done in `TARS_Enrichment.ipynb`"
   ]
  },
  {
   "cell_type": "code",
   "execution_count": null,
   "id": "78aa5c88-b55e-458c-b5db-818b0366724c",
   "metadata": {},
   "outputs": [],
   "source": [
    "import pandas as pd\n",
    "from TARSutils import DocXNote, clean_content, detect_content_type, add_last_heading_column\n",
    "\n",
    "pd.set_option('display.max_colwidth', None)"
   ]
  },
  {
   "cell_type": "code",
   "execution_count": null,
   "id": "12c891e8-49cc-4977-b456-3b7f46b267ff",
   "metadata": {},
   "outputs": [],
   "source": [
    "## Initialise DocX extraction object\n",
    "docs = DocXNote()"
   ]
  },
  {
   "cell_type": "code",
   "execution_count": null,
   "id": "83ca2672-4628-4730-84ae-cd4632861c4f",
   "metadata": {},
   "outputs": [],
   "source": [
    "## Load Doc into session and parse content into a dataframe\n",
    "extracted_content = docs.parse(\"Data/Example Liaison Summary Note.docx\")\n",
    "## Create file_id column (in practice, this would be assigned programatically or from a document directory)\n",
    "extracted_content[\"file_id\"] = 123456"
   ]
  },
  {
   "cell_type": "code",
   "execution_count": null,
   "id": "8cbad799-0d87-4b55-8ff5-dbb7a659637c",
   "metadata": {},
   "outputs": [],
   "source": [
    "## Check content\n",
    "extracted_content.head()"
   ]
  },
  {
   "cell_type": "code",
   "execution_count": null,
   "id": "882dcd26-1135-45b6-9bbe-829ef9496a0d",
   "metadata": {},
   "outputs": [],
   "source": [
    "## Remove duplicate, empty and outdated rows.\n",
    "content = clean_content(extracted_content)\n",
    "content.head()"
   ]
  },
  {
   "cell_type": "code",
   "execution_count": null,
   "id": "16748b20-0431-45fc-ba69-63d68b39fd1d",
   "metadata": {},
   "outputs": [],
   "source": [
    "## Apply heuristics to get content type. E.g. string length, capitalisation, and punctuation traits known to exists in liaison summary notes.\n",
    "content = detect_content_type(content)\n",
    "content.head()"
   ]
  },
  {
   "cell_type": "code",
   "execution_count": null,
   "id": "2438b53b-1ead-440c-8ea9-1b90ae82b3b0",
   "metadata": {},
   "outputs": [],
   "source": [
    "## add_last_heading_column content type assignment from previous step\n",
    "content = add_last_heading_column(content)\n",
    "content"
   ]
  },
  {
   "cell_type": "code",
   "execution_count": null,
   "id": "04351f89-4285-47e6-b40a-6be60bcfae2c",
   "metadata": {},
   "outputs": [],
   "source": []
  }
 ],
 "metadata": {
  "kernelspec": {
   "display_name": "riaenv",
   "language": "python",
   "name": "riaenv"
  },
  "language_info": {
   "codemirror_mode": {
    "name": "ipython",
    "version": 3
   },
   "file_extension": ".py",
   "mimetype": "text/x-python",
   "name": "python",
   "nbconvert_exporter": "python",
   "pygments_lexer": "ipython3",
   "version": "3.9.12"
  }
 },
 "nbformat": 4,
 "nbformat_minor": 5
}
