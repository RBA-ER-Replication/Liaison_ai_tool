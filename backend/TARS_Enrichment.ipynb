{
 "cells": [
  {
   "cell_type": "markdown",
   "id": "0",
   "metadata": {},
   "source": [
    "# Textual Analysis and Retrieval System (TARS) - Data Enrichment  \n",
    "The following notebook code enriches text using a suite of language models (LM), like outlined in section 3.1 of the accompanying research discussion paper [AI-driven Information Retrieval from Liaison: The Reserve Bank of Australia’s New Tool](https://www.google.com). In the paper, the text has been extracted from word documents written about liaison meetings. However in this code, the data is generated artifically using AI and is imported directly from the csv `Data/Example_liaison_data.csv`. For code on how to extract text out of word documents, see `TARS_Extraction.ipynb`.\n",
    "\n",
    "The steps of enrichment are:\n",
    "1. Import data (and take sample if just testing - full dataset can take hours to days depending on compute power).\n",
    "2. Import LMs from HuggingFace (see `TARSml` for model cards).\n",
    "3. Apply model to text and save output in list\n",
    "4. Merge lists of model outputs into single \"enriched\" data set.\n",
    "\n",
    "The output of this file (with the added metadata extracted from the word document), is the basis for the TARS. This can be connected to the TARS dashboard frontend, or used to developed the capabilities outlined in Section 4 of paper."
   ]
  },
  {
   "cell_type": "code",
   "execution_count": null,
   "id": "1",
   "metadata": {
    "tags": []
   },
   "outputs": [],
   "source": [
    "import pandas as pd\n",
    "import torch\n",
    "import TARSutils\n",
    "import TARSml\n",
    "\n",
    "## Use GPU if avialable, otherwise, use most of CPU capacity (check if this is okay for your system)\n",
    "if torch.cuda.is_available():\n",
    "    print(torch.cuda.get_device_name())\n",
    "    device_use = 0\n",
    "else:\n",
    "    print(torch.get_num_threads())\n",
    "    torch.set_num_threads(torch.get_num_threads())\n",
    "    device_use = \"cpu\""
   ]
  },
  {
   "cell_type": "code",
   "execution_count": null,
   "id": "2",
   "metadata": {
    "tags": []
   },
   "outputs": [],
   "source": [
    "IND_COLUMNS = ['top_industry','top_industry_score'] # industry-based topic tags\n",
    "CAT_COLUMNS = ['top_category','top_score'] # economic/business-based topic tags\n",
    "SENT_COLUMNS = ['sentiment','sentiment_score'] # sentiment tags\n",
    "ID_COLS = ['file_id','seq_id','rev_id'] # columns to join on\n",
    "now = TARSutils.current_datetime() # take timestamp\n",
    "timestamp = now.strftime(\"%Y%m%d%H%M\")"
   ]
  },
  {
   "cell_type": "code",
   "execution_count": null,
   "id": "3",
   "metadata": {
    "tags": []
   },
   "outputs": [],
   "source": [
    "## Import data\n",
    "data = pd.read_csv(\"../Data/Example_liaison_data.csv\")"
   ]
  },
  {
   "cell_type": "code",
   "execution_count": null,
   "id": "4",
   "metadata": {
    "tags": []
   },
   "outputs": [],
   "source": [
    "## Check imported data \n",
    "print(len(data))\n",
    "data.head()"
   ]
  },
  {
   "cell_type": "markdown",
   "id": "5",
   "metadata": {},
   "source": [
    "## Enrich Data using language models"
   ]
  },
  {
   "cell_type": "code",
   "execution_count": null,
   "id": "6",
   "metadata": {
    "tags": []
   },
   "outputs": [],
   "source": [
    "## remove .head(100) if you would like to run the full history (warning: full history can take many hours depending on system)\n",
    "to_enrich = data.loc[data['category']=='BODY',ID_COLS + [\"text\"]].head(100)\n",
    "results = [data.head(100)]"
   ]
  },
  {
   "cell_type": "markdown",
   "id": "7",
   "metadata": {},
   "source": [
    "### Category (economic and business topic) tags\n",
    "Using Zeroshot classification model"
   ]
  },
  {
   "cell_type": "code",
   "execution_count": null,
   "id": "8",
   "metadata": {
    "tags": []
   },
   "outputs": [],
   "source": [
    "## Initialise model\n",
    "Cat_mod = TARSml.CategoryModel('category',\"cat_\",device = device_use)\n",
    "columns = list(ID_COLS) + list(Cat_mod.creates_columns())\n",
    "print(f'enriching data with model: {Cat_mod.name}')"
   ]
  },
  {
   "cell_type": "code",
   "execution_count": null,
   "id": "9",
   "metadata": {},
   "outputs": [],
   "source": [
    "## Perform enrichment in data\n",
    "enriched = Cat_mod.enrich(to_enrich, ID_COLS)[columns]\n",
    "enriched.head()"
   ]
  },
  {
   "cell_type": "code",
   "execution_count": null,
   "id": "10",
   "metadata": {},
   "outputs": [],
   "source": [
    "## Save enriched dataframe to results list \n",
    "results.append(enriched)"
   ]
  },
  {
   "cell_type": "markdown",
   "id": "11",
   "metadata": {},
   "source": [
    "### Industry tags\n",
    "\n",
    "Also using zeroshot model"
   ]
  },
  {
   "cell_type": "code",
   "execution_count": null,
   "id": "12",
   "metadata": {},
   "outputs": [],
   "source": [
    "## Initialise model\n",
    "Ind_mod = TARSml.IndustryModel('industry',\"ind_\",device = device_use)\n",
    "columns = list(ID_COLS) + list(Ind_mod.creates_columns())\n",
    "print(f'enriching data with model: {Ind_mod.name}')"
   ]
  },
  {
   "cell_type": "code",
   "execution_count": null,
   "id": "13",
   "metadata": {},
   "outputs": [],
   "source": [
    "## Perform enrichment in data\n",
    "enriched = Ind_mod.enrich(to_enrich, ID_COLS)[columns]\n",
    "enriched.head()"
   ]
  },
  {
   "cell_type": "code",
   "execution_count": null,
   "id": "14",
   "metadata": {},
   "outputs": [],
   "source": [
    "## Save enriched dataframe to results list \n",
    "results.append(enriched)"
   ]
  },
  {
   "cell_type": "markdown",
   "id": "15",
   "metadata": {},
   "source": [
    "### Tone/sentiment tags\n",
    "Using FinBERT model"
   ]
  },
  {
   "cell_type": "code",
   "execution_count": null,
   "id": "16",
   "metadata": {},
   "outputs": [],
   "source": [
    "## Initialise model\n",
    "Sent_mod = TARSml.SentimentModel('sentiment',\"sentiment_\",device = device_use)\n",
    "columns = list(ID_COLS) + list(Sent_mod.creates_columns())\n",
    "print(f'enriching data with model: {Sent_mod.name}')"
   ]
  },
  {
   "cell_type": "code",
   "execution_count": null,
   "id": "17",
   "metadata": {},
   "outputs": [],
   "source": [
    "## Perform enrichment in data\n",
    "enriched = Sent_mod.enrich(to_enrich, ID_COLS)[columns]\n",
    "enriched.head()"
   ]
  },
  {
   "cell_type": "code",
   "execution_count": null,
   "id": "18",
   "metadata": {},
   "outputs": [],
   "source": [
    "## Save enriched dataframe to results list \n",
    "results.append(enriched)"
   ]
  },
  {
   "cell_type": "markdown",
   "id": "19",
   "metadata": {},
   "source": [
    "### Numerical Extraction\n",
    "Using a Roberta QA model and Zeroshot classification model"
   ]
  },
  {
   "cell_type": "code",
   "execution_count": null,
   "id": "20",
   "metadata": {},
   "outputs": [],
   "source": [
    "## initialise model suite for numerical extraction\n",
    "qa = TARSml.QA(device = device_use)\n",
    "Zeroshot = TARSml.Zero(device = device_use)\n",
    "models = {\"QA\":qa, \"Zeroshot\":Zeroshot}"
   ]
  },
  {
   "cell_type": "code",
   "execution_count": null,
   "id": "21",
   "metadata": {},
   "outputs": [],
   "source": [
    "#### PRICE EXTRACT ####\n",
    "price_extract = TARSutils.extract_target_numbers(to_enrich, ID_COLS, models = models, target = \"prices\", target_list = [\"price\",\"prices\"])\n",
    "price_extract.head()"
   ]
  },
  {
   "cell_type": "code",
   "execution_count": null,
   "id": "22",
   "metadata": {},
   "outputs": [],
   "source": [
    "## Save enriched dataframe to results list \n",
    "results.append(price_extract[ID_COLS + [\"PricesExtract\"]])"
   ]
  },
  {
   "cell_type": "code",
   "execution_count": null,
   "id": "23",
   "metadata": {},
   "outputs": [],
   "source": [
    "#### Wages EXTRACT ####\n",
    "wages_extract = TARSutils.extract_target_numbers(to_enrich, ID_COLS, models = models, target = \"wages\", target_list = [\"wage\",\"wages\"])\n",
    "wages_extract.head()"
   ]
  },
  {
   "cell_type": "code",
   "execution_count": null,
   "id": "24",
   "metadata": {},
   "outputs": [],
   "source": [
    "## Save enriched dataframe to results list \n",
    "results.append(wages_extract[ID_COLS + [\"WagesExtract\"]])"
   ]
  },
  {
   "cell_type": "code",
   "execution_count": null,
   "id": "25",
   "metadata": {},
   "outputs": [],
   "source": [
    "## Convert list of dataframes into single joined dataframe\n",
    "results_all = TARSutils.pd_left_join_all(results, on=ID_COLS)"
   ]
  },
  {
   "cell_type": "code",
   "execution_count": null,
   "id": "26",
   "metadata": {},
   "outputs": [],
   "source": [
    "## Check all enirched data joined into one dataframe\n",
    "results_all"
   ]
  },
  {
   "cell_type": "code",
   "execution_count": null,
   "id": "27",
   "metadata": {},
   "outputs": [],
   "source": [
    "results_all.to_csv(\"../Data/Example_liaison_data_enriched.csv\")"
   ]
  },
  {
   "cell_type": "code",
   "execution_count": null,
   "id": "28",
   "metadata": {},
   "outputs": [],
   "source": []
  }
 ],
 "metadata": {
  "kernelspec": {
   "display_name": "Python Datascience",
   "language": "python",
   "name": "pydatascience"
  },
  "language_info": {
   "codemirror_mode": {
    "name": "ipython",
    "version": 3
   },
   "file_extension": ".py",
   "mimetype": "text/x-python",
   "name": "python",
   "nbconvert_exporter": "python",
   "pygments_lexer": "ipython3",
   "version": "3.10.9"
  }
 },
 "nbformat": 4,
 "nbformat_minor": 5
}
